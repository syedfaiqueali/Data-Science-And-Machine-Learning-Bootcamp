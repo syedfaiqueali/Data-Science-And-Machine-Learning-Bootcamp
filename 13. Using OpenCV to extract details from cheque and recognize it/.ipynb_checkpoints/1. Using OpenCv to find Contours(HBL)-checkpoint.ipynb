{
 "cells": [
  {
   "cell_type": "markdown",
   "metadata": {},
   "source": [
    "# Imports"
   ]
  },
  {
   "cell_type": "code",
   "execution_count": null,
   "metadata": {},
   "outputs": [],
   "source": [
    "import cv2\n",
    "import numpy as np\n",
    "import pandas as pd\n",
    "import matplotlib.pyplot as plt\n",
    "\n",
    "from PIL import Image\n",
    "\n",
    "%matplotlib inline"
   ]
  },
  {
   "cell_type": "markdown",
   "metadata": {},
   "source": [
    "# Constants"
   ]
  },
  {
   "cell_type": "code",
   "execution_count": null,
   "metadata": {},
   "outputs": [],
   "source": [
    "CROPPED_CONTOURS_FOLDER = 'Cropped_Contours/'\n",
    "SAMPLE_IMAGE = 'Image_Samples/Sample1.png'\n",
    "\n",
    "ARR_RIGHT_SECTION_ROWS_CONTOURS = []\n",
    "ARR_RIGHT_SECTION_COL_CONTOURS = []"
   ]
  },
  {
   "cell_type": "markdown",
   "metadata": {},
   "source": [
    "# Helper Functions"
   ]
  },
  {
   "cell_type": "code",
   "execution_count": null,
   "metadata": {},
   "outputs": [],
   "source": [
    "def find_contour_with_least_area(contours):\n",
    "    '''\n",
    "    This function will calculate contours area and return the least one\n",
    "    Parameters:\n",
    "    contours: All contours hierarchy array\n",
    "    '''\n",
    "    \n",
    "    # Step1: Find areas of every contour\n",
    "    areas = []\n",
    "    for cnt in contours:\n",
    "        area = cv2.contourArea(cnt)\n",
    "        # All areas appended in sequence\n",
    "        areas.append(int(area))\n",
    "        \n",
    "    # Step2: Find the contour index with the least area\n",
    "    least_area = areas[0]\n",
    "    index = 0\n",
    "    \n",
    "    for i in range(0, len(areas)):\n",
    "        if areas[i] <= least_area:\n",
    "            # Update least value\n",
    "            least_area = areas[i]\n",
    "            index = i\n",
    "            \n",
    "    # Step3: Return the least area contour index\n",
    "    return index\n",
    "\n",
    "def find_contour_with_greatest_area(contours):\n",
    "    '''\n",
    "    This function will calculate contours area and return the least one\n",
    "    Parameters:\n",
    "    contours: All contours hierarchy array\n",
    "    '''\n",
    "    \n",
    "    # Step1: Find areas of every contour\n",
    "    areas = []\n",
    "    for cnt in contours:\n",
    "        area = cv2.contourArea(cnt)\n",
    "        # All areas appended in sequence\n",
    "        areas.append(int(area))\n",
    "        \n",
    "    # Step2: Find the contour index with the least area\n",
    "    greatest_area = areas[0]\n",
    "    index = 0\n",
    "    \n",
    "    for i in range(0, len(areas)):\n",
    "        if areas[i] >= greatest_area:\n",
    "            # Update least value\n",
    "            greatest_area = areas[i]\n",
    "            index = i\n",
    "            \n",
    "    # Step3: Return the least area contour index\n",
    "    return index, areas\n",
    "\n",
    "\n",
    "def draw_rectangle_on_img_contours_and_save_them(contours, image, arr_contours):\n",
    "    '''\n",
    "    This function will draw rectangles on image\n",
    "    Parameters:\n",
    "    contours : array\n",
    "    image: image\n",
    "    arr_contours: array in which cropped contours to be saved\n",
    "    '''\n",
    "    total_contours = len(contours)\n",
    "    rect_color = (255,0,0)\n",
    "    rect_stroke_width = 2\n",
    "    \n",
    "    for i in range(total_contours):\n",
    "        cnt = contours[i]\n",
    "        x,y,w,h = cv2.boundingRect(cnt)\n",
    "        image = cv2.rectangle(image, (x,y), (x+w,y+h), rect_color, rect_stroke_width)\n",
    "        \n",
    "        # Cropping individual contours and saving them as separate image\n",
    "        cropping_rectangles_and_saving_them(x,y,x+w,y+h,image,i,arr_contours)\n",
    "        \n",
    "    # To visualize all contours on image\n",
    "    plt.imshow(image)\n",
    "    plt.show()\n",
    "    \n",
    "    \n",
    "def cropping_rectangles_and_saving_them(left,upper,right,lower, image_name, cropped_image_name, arr_contours):\n",
    "    '''\n",
    "    This function will crop all the bounding rectangles from an image\n",
    "    Parameters:\n",
    "    left=x,upper=y,right=x+w,lower=y+h\n",
    "    image_name: original image\n",
    "    cropped_image_name: individual cropped images name\n",
    "    '''\n",
    "    # Opens image using PIL\n",
    "    #im = Image.open(image_name)\n",
    "    im = Image.fromarray(image_name, 'RGB')\n",
    "    \n",
    "    # Crop image from original image\n",
    "    box = (left,upper,right,lower)\n",
    "    cropped_image = im.crop(box)\n",
    "    \n",
    "    # Appending cropped contours\n",
    "    arr_contours.append(cropped_image)\n",
    "    \n",
    "    # Saved cropped image\n",
    "    #cropped_image.save(f'{CROPPED_CONTOURS_COL_FOLDER}{cropped_image_name}.png')"
   ]
  },
  {
   "cell_type": "markdown",
   "metadata": {},
   "source": [
    "# Image Processing"
   ]
  },
  {
   "cell_type": "markdown",
   "metadata": {},
   "source": [
    "## 1. Reading image & Splitting it by 30 and 70 ratio"
   ]
  },
  {
   "cell_type": "code",
   "execution_count": null,
   "metadata": {},
   "outputs": [],
   "source": [
    "# Read image using opencv\n",
    "img = cv2.imread(SAMPLE_IMAGE)\n",
    "\n",
    "# Display image using matplotlib\n",
    "plt.figure(figsize=(15,7))\n",
    "plt.imshow(img)\n",
    "plt.show()"
   ]
  },
  {
   "cell_type": "code",
   "execution_count": null,
   "metadata": {},
   "outputs": [],
   "source": [
    "y = img.shape[0] #Height\n",
    "x = img.shape[1] #Width"
   ]
  },
  {
   "cell_type": "markdown",
   "metadata": {},
   "source": [
    "### 1a. Left Section :70% of image"
   ]
  },
  {
   "cell_type": "code",
   "execution_count": null,
   "metadata": {},
   "outputs": [],
   "source": [
    "crop_ratio = int(x/3) # 100%-30% = 70%\n",
    "left_crop_img = img[0:y, 0:x-crop_ratio] #[height, width]\n",
    "\n",
    "plt.imshow(left_crop_img)\n",
    "plt.show()"
   ]
  },
  {
   "cell_type": "markdown",
   "metadata": {},
   "source": [
    "### 1b. Right Section :30% of image"
   ]
  },
  {
   "cell_type": "code",
   "execution_count": null,
   "metadata": {},
   "outputs": [],
   "source": [
    "crop_ratio = int(x/3) # 100%-30% = 70%\n",
    "right_crop_img = img[0:y, x-crop_ratio:x] #[height, width] \n",
    "\n",
    "plt.imshow(right_crop_img)\n",
    "plt.show()"
   ]
  },
  {
   "cell_type": "markdown",
   "metadata": {},
   "source": [
    "### 2. Extracting only desired section from Left Cropped Image(70%)\n",
    "\n",
    "<p>Vertically 20-25% above and the below area is of our no use. Discard it.</p>"
   ]
  },
  {
   "cell_type": "code",
   "execution_count": null,
   "metadata": {},
   "outputs": [],
   "source": [
    "y = left_crop_img.shape[0] #Height\n",
    "x = left_crop_img.shape[1] #Width\n",
    "\n",
    "print(f'Width: {x} || Height: {y}')"
   ]
  },
  {
   "cell_type": "code",
   "execution_count": null,
   "metadata": {},
   "outputs": [],
   "source": [
    "# Crop vertically(height)\n",
    "crop_ratio = int(y/1.35) # 100%-13.5% = 86.5%\n",
    "sub_left_crop_img = left_crop_img[y-crop_ratio:y-(y-crop_ratio), 0:x] #[height, width] => [362,]\n",
    "\n",
    "plt.imshow(sub_left_crop_img)\n",
    "plt.show()"
   ]
  },
  {
   "cell_type": "markdown",
   "metadata": {},
   "source": [
    "### 3. Extracting only desired section from Right Cropped Image(30%)\n",
    "\n",
    "<p>Vertically 10-15% above and 30-45% below area is of our no use. Discard it.</p>"
   ]
  },
  {
   "cell_type": "code",
   "execution_count": null,
   "metadata": {},
   "outputs": [],
   "source": [
    "y = right_crop_img.shape[0] #Height\n",
    "x = right_crop_img.shape[1] #Width\n",
    "\n",
    "print(f'Width: {x} || Height: {y}')"
   ]
  },
  {
   "cell_type": "code",
   "execution_count": null,
   "metadata": {},
   "outputs": [],
   "source": [
    "# Crop vertically(height)\n",
    "bottom_crop_ratio = int(y/2.5) # 100%-25% = 75%\n",
    "top_crop_ratio = int(y/6.8) # 100%-68% = 30%\n",
    "\n",
    "sub_right_crop_img = right_crop_img[top_crop_ratio:y-bottom_crop_ratio, 0:x] #[height, width] => [362,]\n",
    "\n",
    "plt.imshow(sub_right_crop_img)\n",
    "plt.show()"
   ]
  },
  {
   "cell_type": "markdown",
   "metadata": {},
   "source": [
    "## 2. Extracting handwritten details from right image"
   ]
  },
  {
   "cell_type": "markdown",
   "metadata": {},
   "source": [
    "### 2.1 Finding no of rows & meshing them together to extract rows"
   ]
  },
  {
   "cell_type": "code",
   "execution_count": null,
   "metadata": {},
   "outputs": [],
   "source": [
    "# Display image using matplotlib\n",
    "plt.imshow(sub_right_crop_img)\n",
    "plt.show()"
   ]
  },
  {
   "cell_type": "code",
   "execution_count": null,
   "metadata": {},
   "outputs": [],
   "source": [
    "alpha = 1.5 # Contrast control (1.0-3.0)\n",
    "beta = 90 # Brightness control (0-100)\n",
    "\n",
    "adjusted = cv2.convertScaleAbs(sub_right_crop_img, alpha=alpha, beta=beta)\n",
    "\n",
    "plt.imshow(adjusted)\n",
    "plt.show()"
   ]
  },
  {
   "cell_type": "code",
   "execution_count": null,
   "metadata": {},
   "outputs": [],
   "source": [
    "# convert the image to grayscale format\n",
    "img_gray = cv2.cvtColor(adjusted, cv2.COLOR_BGR2GRAY)\n",
    "\n",
    "plt.imshow(img_gray)\n",
    "plt.show()"
   ]
  },
  {
   "cell_type": "code",
   "execution_count": null,
   "metadata": {},
   "outputs": [],
   "source": [
    "# apply thresholding\n",
    "ret, thresh = cv2.threshold(img_gray, 150, 255, cv2.THRESH_OTSU|cv2.THRESH_BINARY_INV)\n",
    "\n",
    "plt.imshow(thresh)\n",
    "plt.show()"
   ]
  },
  {
   "cell_type": "code",
   "execution_count": null,
   "metadata": {},
   "outputs": [],
   "source": [
    "# Finding rows\n",
    "rect_kernel = cv2.getStructuringElement(cv2.MORPH_RECT, (500,10))\n",
    "dilation = cv2.dilate(thresh, rect_kernel, iterations=1)\n",
    "\n",
    "plt.imshow(dilation)\n",
    "plt.show()"
   ]
  },
  {
   "cell_type": "markdown",
   "metadata": {},
   "source": [
    "### 2.2. Find rows contours of the image"
   ]
  },
  {
   "cell_type": "code",
   "execution_count": null,
   "metadata": {},
   "outputs": [],
   "source": [
    "# detect the contours on the binary image using cv2.CHAIN_APPROX_NONE\n",
    "contours, hierarchy = cv2.findContours(image=dilation, mode=cv2.RETR_EXTERNAL, method=cv2.CHAIN_APPROX_NONE)\n",
    "                                     \n",
    "# draw contours on the original image\n",
    "image_copy = sub_right_crop_img.copy()\n",
    "cv2.drawContours(image=image_copy, contours=contours, contourIdx=-1, color=(0, 255, 0), thickness=5, lineType=cv2.LINE_AA)\n",
    "               \n",
    "plt.imshow(image_copy)\n",
    "plt.show()"
   ]
  },
  {
   "cell_type": "code",
   "execution_count": null,
   "metadata": {},
   "outputs": [],
   "source": [
    "len(contours)"
   ]
  },
  {
   "cell_type": "markdown",
   "metadata": {},
   "source": [
    "<p>\n",
    "    As we are only expecting 2 rows in this part, but if we got more than 2, so we have to find the extraneous contour and eliminate it.\n",
    "</p>"
   ]
  },
  {
   "cell_type": "code",
   "execution_count": null,
   "metadata": {},
   "outputs": [],
   "source": [
    "if len(contours) > 2:\n",
    "    index = find_contour_with_least_area(contours)\n",
    "    del contours[index]"
   ]
  },
  {
   "cell_type": "code",
   "execution_count": null,
   "metadata": {},
   "outputs": [],
   "source": [
    "len(contours)"
   ]
  },
  {
   "cell_type": "code",
   "execution_count": null,
   "metadata": {},
   "outputs": [],
   "source": [
    "# draw contours on the original image\n",
    "image_copy = sub_right_crop_img.copy()\n",
    "cv2.drawContours(image=image_copy, contours=contours, contourIdx=-1, color=(0, 255, 0), thickness=5, lineType=cv2.LINE_AA)\n",
    "               \n",
    "plt.imshow(image_copy)\n",
    "plt.show()"
   ]
  },
  {
   "cell_type": "code",
   "execution_count": null,
   "metadata": {},
   "outputs": [],
   "source": [
    "ARR_RIGHT_SECTION_ROWS_CONTOURS.clear()\n",
    "draw_rectangle_on_img_contours_and_save_them(contours, sub_right_crop_img, ARR_RIGHT_SECTION_ROWS_CONTOURS)"
   ]
  },
  {
   "cell_type": "code",
   "execution_count": null,
   "metadata": {},
   "outputs": [],
   "source": [
    "len(ARR_RIGHT_SECTION_ROWS_CONTOURS)"
   ]
  },
  {
   "cell_type": "code",
   "execution_count": null,
   "metadata": {},
   "outputs": [],
   "source": [
    "# Show cropped images\n",
    "plt.imshow(ARR_RIGHT_SECTION_ROWS_CONTOURS[0])\n",
    "plt.show()"
   ]
  },
  {
   "cell_type": "code",
   "execution_count": null,
   "metadata": {},
   "outputs": [],
   "source": [
    "type(ARR_RIGHT_SECTION_ROWS_CONTOURS[0])"
   ]
  },
  {
   "cell_type": "markdown",
   "metadata": {},
   "source": [
    "### 2.3. Find col contours of the image"
   ]
  },
  {
   "cell_type": "code",
   "execution_count": null,
   "metadata": {},
   "outputs": [],
   "source": [
    "img = np.array(ARR_RIGHT_SECTION_ROWS_CONTOURS[0])\n",
    "\n",
    "# convert the image to grayscale format\n",
    "img_gray = cv2.cvtColor(img, cv2.COLOR_BGR2GRAY)\n",
    "\n",
    "plt.imshow(img_gray)\n",
    "plt.show()"
   ]
  },
  {
   "cell_type": "code",
   "execution_count": null,
   "metadata": {},
   "outputs": [],
   "source": [
    "# apply thresholding\n",
    "ret, thresh = cv2.threshold(img_gray, 150, 255, cv2.THRESH_OTSU|cv2.THRESH_BINARY_INV)\n",
    "\n",
    "plt.imshow(thresh)\n",
    "plt.show()"
   ]
  },
  {
   "cell_type": "code",
   "execution_count": null,
   "metadata": {},
   "outputs": [],
   "source": [
    "# detect the contours on the binary image using cv2.CHAIN_APPROX_NONE\n",
    "contours, hierarchy = cv2.findContours(image=thresh, mode=cv2.RETR_TREE, method=cv2.CHAIN_APPROX_NONE)\n",
    "                                     \n",
    "# draw contours on the original image\n",
    "image_copy = img.copy()\n",
    "cv2.drawContours(image=image_copy, contours=contours, contourIdx=-1, color=(0, 255, 0), thickness=4, lineType=cv2.LINE_AA)\n",
    "               \n",
    "plt.imshow(image_copy)\n",
    "plt.show()"
   ]
  },
  {
   "cell_type": "code",
   "execution_count": null,
   "metadata": {},
   "outputs": [],
   "source": [
    "len(contours)"
   ]
  },
  {
   "cell_type": "code",
   "execution_count": null,
   "metadata": {},
   "outputs": [],
   "source": [
    "index, areas = find_contour_with_greatest_area(contours)\n",
    "areas"
   ]
  },
  {
   "cell_type": "code",
   "execution_count": null,
   "metadata": {},
   "outputs": [],
   "source": [
    "# draw contours on the original image\n",
    "image_copy = img.copy()\n",
    "cv2.drawContours(image=image_copy, contours=contours[2], contourIdx=-1, color=(0, 255, 0), thickness=2, lineType=cv2.LINE_AA)\n",
    "               \n",
    "plt.imshow(image_copy)\n",
    "plt.show()"
   ]
  },
  {
   "cell_type": "code",
   "execution_count": null,
   "metadata": {},
   "outputs": [],
   "source": []
  }
 ],
 "metadata": {
  "kernelspec": {
   "display_name": "Python 3",
   "language": "python",
   "name": "python3"
  },
  "language_info": {
   "codemirror_mode": {
    "name": "ipython",
    "version": 3
   },
   "file_extension": ".py",
   "mimetype": "text/x-python",
   "name": "python",
   "nbconvert_exporter": "python",
   "pygments_lexer": "ipython3",
   "version": "3.8.5"
  }
 },
 "nbformat": 4,
 "nbformat_minor": 4
}
