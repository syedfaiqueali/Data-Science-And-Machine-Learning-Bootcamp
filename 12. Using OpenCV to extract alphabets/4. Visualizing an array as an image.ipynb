{
 "cells": [
  {
   "cell_type": "code",
   "execution_count": 1,
   "metadata": {},
   "outputs": [],
   "source": [
    "import numpy as np\n",
    "import pandas as pd\n",
    "import matplotlib.pyplot as plt\n",
    "\n",
    "from PIL import Image\n",
    "\n",
    "%matplotlib inline"
   ]
  },
  {
   "cell_type": "code",
   "execution_count": 9,
   "metadata": {},
   "outputs": [],
   "source": [
    "raw_array = [0,0,0,0,0,0,0,0,0,0,0,0,0,0,0,0,0,0,0,0,0,0,0,0,0,0,0,0,0,0,0,0,0,0,0,0,0,0,0,0,0,0,0,0,0,0,0,0,0,0,0,0,0,0,0,0,0,0,0,0,0,0,0,0,0,0,0,0,0,0,0,0,0,0,0,0,0,0,0,0,0,0,0,0,0,0,0,0,0,0,0,0,0,0,0,0,0,0,0,0,0,0,0,0,0,0,0,0,0,0,0,0,0,0,0,0,0,0,0,0,0,0,0,0,0,0,0,0,0,0,0,0,0,0,0,0,0,0,0,0,0,0,0,0,0,0,0,0,0,0,0,0,0,0,0,0,0,0,0,0,0,0,0,0,0,0,0,0,0,0,0,0,0,0,0,0,82,207,219,231,214,224,207,217,224,212,188,125,63,21,0,0,0,0,0,0,0,0,0,0,0,0,0,0,217,255,255,255,255,255,255,255,255,255,255,255,255,247,205,65,0,0,0,0,0,0,0,0,0,0,0,0,178,255,255,255,255,255,255,255,255,255,255,255,255,255,255,212,0,0,0,0,0,0,0,0,0,0,0,0,4,72,84,96,79,89,72,90,255,255,255,241,253,255,255,208,0,0,0,0,0,0,0,0,0,0,0,0,0,0,0,0,0,0,0,11,255,255,255,111,30,120,153,44,0,0,0,0,0,0,0,0,0,0,0,0,0,0,0,0,0,0,0,11,255,255,255,111,0,0,0,0,0,0,0,0,0,0,0,0,0,0,0,0,0,0,0,0,0,0,0,11,255,255,255,111,0,0,0,0,0,0,0,0,0,0,0,0,0,0,0,0,0,0,0,0,0,0,0,11,255,255,255,111,0,0,0,0,0,0,0,0,0,0,0,0,0,0,0,0,0,0,0,0,0,0,0,11,255,255,255,111,0,0,0,0,0,0,0,0,0,0,0,0,23,112,73,0,0,0,0,0,0,0,0,11,255,255,255,111,0,0,0,0,0,0,0,0,0,0,0,0,177,255,255,65,0,0,0,0,0,0,0,11,255,255,255,102,0,0,0,0,0,0,0,0,0,0,0,0,212,255,255,162,0,0,0,0,0,0,0,39,255,255,255,55,0,0,0,0,0,0,0,0,0,0,0,0,152,255,255,234,14,0,0,0,0,0,0,114,255,255,255,8,0,0,0,0,0,0,0,0,0,0,0,0,43,252,255,255,119,0,0,0,0,39,149,237,255,255,212,0,0,0,0,0,0,0,0,0,0,0,0,0,0,181,255,255,232,120,120,129,192,252,255,255,255,255,133,0,0,0,0,0,0,0,0,0,0,0,0,0,0,67,255,255,255,255,255,255,255,255,255,255,255,211,13,0,0,0,0,0,0,0,0,0,0,0,0,0,0,1,151,255,255,255,255,255,255,255,248,181,68,6,0,0,0,0,0,0,0,0,0,0,0,0,0,0,0,0,6,144,236,255,255,209,171,96,22,0,0,0,0,0,0,0,0,0,0,0,0,0,0,0,0,0,0,0,0,0,0,0,0,0,0,0,0,0,0,0,0,0,0,0,0,0,0,0,0,0,0,0,0,0,0,0,0,0,0,0,0,0,0,0,0,0,0,0,0,0,0,0,0,0,0,0,0,0,0,0,0,0,0,0,0,0,0,0,0,0,0,0,0,0,0,0,0,0,0,0,0,0,0,0,0,0,0,0,0,0,0,0,0,0,0,0,0,0,0,0,0,0,0,0,0,0,0,0,0,0,0,0,0,0]"
   ]
  },
  {
   "cell_type": "code",
   "execution_count": 10,
   "metadata": {},
   "outputs": [],
   "source": [
    "raw_array = np.array(raw_array)"
   ]
  },
  {
   "cell_type": "code",
   "execution_count": 11,
   "metadata": {},
   "outputs": [
    {
     "data": {
      "image/png": "[encoded data removed]",
      "text/plain": [
       "<Figure size 432x288 with 1 Axes>"
      ]
     },
     "metadata": {
      "needs_background": "light"
     },
     "output_type": "display_data"
    }
   ],
   "source": [
    "plt.imshow(raw_array.reshape(28,28), interpolation='nearest', cmap='Greys')\n",
    "plt.show()   "
   ]
  }
 ],
 "metadata": {
  "kernelspec": {
   "display_name": "Python 3",
   "language": "python",
   "name": "python3"
  },
  "language_info": {
   "codemirror_mode": {
    "name": "ipython",
    "version": 3
   },
   "file_extension": ".py",
   "mimetype": "text/x-python",
   "name": "python",
   "nbconvert_exporter": "python",
   "pygments_lexer": "ipython3",
   "version": "3.8.5"
  }
 },
 "nbformat": 4,
 "nbformat_minor": 4
}
