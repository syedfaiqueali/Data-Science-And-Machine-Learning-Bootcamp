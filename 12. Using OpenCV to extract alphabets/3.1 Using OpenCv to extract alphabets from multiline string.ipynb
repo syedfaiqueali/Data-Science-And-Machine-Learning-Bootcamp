{
 "cells": [
  {
   "cell_type": "markdown",
   "metadata": {},
   "source": [
    "# Imports"
   ]
  },
  {
   "cell_type": "code",
   "execution_count": 1,
   "metadata": {},
   "outputs": [],
   "source": [
    "import cv2\n",
    "import numpy as np\n",
    "import pandas as pd\n",
    "import matplotlib.pyplot as plt\n",
    "\n",
    "from PIL import Image\n",
    "\n",
    "%matplotlib inline"
   ]
  },
  {
   "cell_type": "markdown",
   "metadata": {},
   "source": [
    "# Constants"
   ]
  },
  {
   "cell_type": "code",
   "execution_count": 2,
   "metadata": {},
   "outputs": [],
   "source": [
    "SAMPLE_IMAGE = 'Image_Samples/Sample3.jpeg'"
   ]
  },
  {
   "cell_type": "markdown",
   "metadata": {},
   "source": [
    "# Helper Functions"
   ]
  },
  {
   "cell_type": "code",
   "execution_count": 3,
   "metadata": {},
   "outputs": [],
   "source": [
    "def get_all_childs_of_parent(parent, hierarchy):\n",
    "    '''\n",
    "    This function will return all the child of that contour\n",
    "    Parameters:\n",
    "    parent : Int value\n",
    "    hierarchy: contours hierarchy\n",
    "    '''\n",
    "    # Initialize\n",
    "    hier_len = hierarchy.shape[1] #Total contours\n",
    "    child_contours = {} #Empty Dict\n",
    "    \n",
    "    for x in range(hier_len):\n",
    "        # To loop through whole hierarchy\n",
    "        next_contour, pre_contour, first_child, parent_contour = hierarchy[0][x]\n",
    "        \n",
    "        # If desired parent found, so append it all childs\n",
    "        if parent == parent_contour:\n",
    "            child_contours[x] = hierarchy[0][x]\n",
    "        \n",
    "    # return all the found contours\n",
    "    return child_contours\n",
    "\n",
    "def sort_contours(contours, method=\"left-to-right\"):\n",
    "    '''\n",
    "    This function will sort contours\n",
    "    Parameters:\n",
    "    contours: All contours\n",
    "    method: String\n",
    "    ''' \n",
    "    # Initialize the reverse flag and sort index\n",
    "    reverse = False\n",
    "    i=0\n",
    "    \n",
    "    # Handle if we need to sort in reverse\n",
    "    if method == \"right-to-left\" or method == \"bottom-to-top\":\n",
    "        reverse = True\n",
    "        \n",
    "    # Handle if we need are sorting against the y-cord rather than \n",
    "    # the x-cord of the bounding box\n",
    "    if method == \"top-to-bottom\" or method == \"bottom-to-top\":\n",
    "        i = 1\n",
    "        \n",
    "    # construct the list of bounding boxes and sort them from from top\n",
    "    # to bottom\n",
    "    boundingBoxes = [cv2.boundingRect(c) for c in contours]\n",
    "    (contours, boundingBoxes) = zip(*sorted(zip(contours,boundingBoxes),key=lambda b:b[1][i], reverse=reverse))\n",
    "    \n",
    "    # return the list of sorted contours and bounding boxes\n",
    "    return (contours, boundingBoxes)\n",
    "\n",
    "\n",
    "def extract_desired_contours(contours_dict, contours):\n",
    "    '''\n",
    "    This function will extract only desired contours\n",
    "    Parameters:\n",
    "    contours_dict : Desired contours as Dict\n",
    "    contours: All contours\n",
    "    ''' \n",
    "    desired_contours = []\n",
    "    \n",
    "    for i in range(len(contours)):\n",
    "        for key,value in contours_dict.items():\n",
    "            next_contour, pre_contour, first_child, parent = value\n",
    "            if i == first_child:\n",
    "                desired_contours.append(contours[i])\n",
    "                \n",
    "    return desired_contours\n",
    "\n",
    "\n",
    "def draw_rectangle_on_img_contours_and_croppping_them(contours, image, arr_contours):\n",
    "    '''\n",
    "    This function will draw rectangles on image\n",
    "    Parameters:\n",
    "    contours : array\n",
    "    image: image\n",
    "    arr_contours: array in which cropped contours to be saved\n",
    "    '''\n",
    "    total_contours = len(contours)\n",
    "    rect_color = (255,0,0)\n",
    "    rect_stroke_width = 2\n",
    "    \n",
    "    new_img = image.copy()\n",
    "    \n",
    "    for i in range(total_contours):\n",
    "        cnt = contours[i]\n",
    "        x,y,w,h = cv2.boundingRect(cnt)\n",
    "        image = cv2.rectangle(image, (x,y), (x+w,y+h), rect_color, rect_stroke_width)\n",
    "        \n",
    "        # Step 5: Cropping individual contours and saving them in array\n",
    "        cropping_rectangles_and_saving_them(x,y,x+w,y+h,new_img,i,arr_contours)\n",
    "        \n",
    "    # To visualize all contours on image\n",
    "    #plt.imshow(image)\n",
    "    #plt.show()\n",
    "      \n",
    "\n",
    "def cropping_rectangles_and_saving_them(left,upper,right,lower, image_name, cropped_image_name, arr_contours):\n",
    "    '''\n",
    "    This function will crop all the bounding rectangles from an image\n",
    "    Parameters:\n",
    "    left=x,upper=y,right=x+w,lower=y+h\n",
    "    image_name: original image\n",
    "    cropped_image_name: individual cropped images name\n",
    "    '''\n",
    "    # Opens image using PIL\n",
    "    im = Image.fromarray(image_name)\n",
    "    \n",
    "    # Crop image from original image\n",
    "    box = (left,upper,right,lower)\n",
    "    cropped_image = im.crop(box)\n",
    "    \n",
    "    # Appending cropped contours\n",
    "    arr_contours.append(cropped_image)\n",
    "    \n",
    "    \n",
    "def resizing_cropped_img_to_20_by_20(arr_cropped_images):\n",
    "    '''\n",
    "    This function will resize all the cropped images to 20x20\n",
    "    Parameters:\n",
    "    arr_cropped_images: arr containing all cropped numbers\n",
    "    '''\n",
    "    new_Arr = []\n",
    "    \n",
    "    for i in range(len(arr_cropped_images)):\n",
    "        # Step:6 Resize img to 20 by 20\n",
    "        new_Arr.append(arr_cropped_images[i].resize((20,20)))\n",
    "        \n",
    "    return new_Arr\n",
    "    \n",
    "    \n",
    "def add_borders_to_img(arr_20x20_imgs):\n",
    "    '''\n",
    "    This function will resize all the cropped images to 28x28\n",
    "    Parameters:\n",
    "    arr_20x20_imgs: arr containing all 20x20 images\n",
    "    '''\n",
    "    new_Arr = []\n",
    "    \n",
    "    for i in range(len(arr_20x20_imgs)):\n",
    "        old_size = arr_20x20_imgs[i].size\n",
    "        new_size = (28,28)\n",
    "        \n",
    "        img_28x28 = Image.new('RGB',new_size, color=(255,255,255))\n",
    "        img_28x28.paste(arr_20x20_imgs[i],((new_size[0]-old_size[0])//2,(new_size[1]-old_size[1])//2))\n",
    "        new_Arr.append(img_28x28)\n",
    "        \n",
    "    return new_Arr \n",
    "\n",
    "def ret_x_cord_contour(contours):\n",
    "    '''\n",
    "    This func will get x-cord for contour\n",
    "    Parameters:\n",
    "    contours: Array containing all contours\n",
    "    '''\n",
    "    if int(cv2.contourArea(contours)) > 0:\n",
    "        cent_moment = cv2.moments(contours)\n",
    "        return cent_moment['m10']/cent_moment['m00']\n",
    "    else:\n",
    "        pass"
   ]
  },
  {
   "cell_type": "markdown",
   "metadata": {},
   "source": [
    "# Image Processing"
   ]
  },
  {
   "cell_type": "markdown",
   "metadata": {},
   "source": [
    "## Step1 : Finding rows in the multi line string"
   ]
  },
  {
   "cell_type": "markdown",
   "metadata": {},
   "source": [
    "### 1a. Meshing all rows characters together to extract rows."
   ]
  },
  {
   "cell_type": "code",
   "execution_count": 4,
   "metadata": {},
   "outputs": [
    {
     "data": {
      "image/png": "[encoded data removed]",
      "text/plain": [
       "<Figure size 432x288 with 1 Axes>"
      ]
     },
     "metadata": {
      "needs_background": "light"
     },
     "output_type": "display_data"
    }
   ],
   "source": [
    "# Read image using opencv\n",
    "img = cv2.imread(SAMPLE_IMAGE)\n",
    "\n",
    "# Display image using matplotlib\n",
    "plt.imshow(img)\n",
    "plt.show()"
   ]
  },
  {
   "cell_type": "code",
   "execution_count": 5,
   "metadata": {},
   "outputs": [
    {
     "data": {
      "image/png": "[encoded data removed]",
      "text/plain": [
       "<Figure size 432x288 with 1 Axes>"
      ]
     },
     "metadata": {
      "needs_background": "light"
     },
     "output_type": "display_data"
    }
   ],
   "source": [
    "# convert the image to grayscale format\n",
    "img_gray = cv2.cvtColor(img, cv2.COLOR_BGR2GRAY)\n",
    "\n",
    "plt.imshow(img_gray)\n",
    "plt.show()"
   ]
  },
  {
   "cell_type": "code",
   "execution_count": 6,
   "metadata": {},
   "outputs": [
    {
     "data": {
      "image/png": "[encoded data removed]",
      "text/plain": [
       "<Figure size 432x288 with 1 Axes>"
      ]
     },
     "metadata": {
      "needs_background": "light"
     },
     "output_type": "display_data"
    }
   ],
   "source": [
    "# apply thresholding\n",
    "ret, thresh = cv2.threshold(img_gray, 150, 255, cv2.THRESH_OTSU|cv2.THRESH_BINARY_INV)\n",
    "\n",
    "plt.imshow(thresh)\n",
    "plt.show()"
   ]
  },
  {
   "cell_type": "code",
   "execution_count": 22,
   "metadata": {},
   "outputs": [
    {
     "data": {
      "image/png": "[encoded data removed]",
      "text/plain": [
       "<Figure size 432x288 with 1 Axes>"
      ]
     },
     "metadata": {
      "needs_background": "light"
     },
     "output_type": "display_data"
    }
   ],
   "source": [
    "# Finding rows\n",
    "rect_kernel = cv2.getStructuringElement(cv2.MORPH_RECT, (120,10))\n",
    "dilation = cv2.dilate(thresh, rect_kernel, iterations=1)\n",
    "\n",
    "plt.imshow(dilation)\n",
    "plt.show()"
   ]
  },
  {
   "cell_type": "markdown",
   "metadata": {},
   "source": [
    "### 1b. Find rows contours of the image"
   ]
  },
  {
   "cell_type": "code",
   "execution_count": 8,
   "metadata": {},
   "outputs": [
    {
     "data": {
      "image/png": "[encoded data removed]",
      "text/plain": [
       "<Figure size 432x288 with 1 Axes>"
      ]
     },
     "metadata": {
      "needs_background": "light"
     },
     "output_type": "display_data"
    }
   ],
   "source": [
    "# detect the contours on the binary image using cv2.CHAIN_APPROX_NONE\n",
    "contours, hierarchy = cv2.findContours(image=dilation, mode=cv2.RETR_EXTERNAL, method=cv2.CHAIN_APPROX_NONE)\n",
    "                                     \n",
    "# draw contours on the original image\n",
    "image_copy = img.copy()\n",
    "cv2.drawContours(image=image_copy, contours=contours, contourIdx=-1, color=(0, 255, 0), thickness=2, lineType=cv2.LINE_AA)\n",
    "               \n",
    "plt.imshow(image_copy)\n",
    "plt.show()"
   ]
  },
  {
   "cell_type": "code",
   "execution_count": 9,
   "metadata": {},
   "outputs": [
    {
     "data": {
      "text/plain": [
       "5"
      ]
     },
     "execution_count": 9,
     "metadata": {},
     "output_type": "execute_result"
    }
   ],
   "source": [
    "len(contours)"
   ]
  },
  {
   "cell_type": "markdown",
   "metadata": {},
   "source": [
    "### Contours Hierarchy"
   ]
  },
  {
   "cell_type": "markdown",
   "metadata": {},
   "source": [
    "`RETR_EXTERNAL`: It retrieves only the outer contours.\n",
    "\n",
    "`Hierarchy`: Returns array [Next, Previous, First_Child, Parent]"
   ]
  },
  {
   "cell_type": "code",
   "execution_count": 10,
   "metadata": {},
   "outputs": [
    {
     "data": {
      "text/plain": [
       "(1, 5, 4)"
      ]
     },
     "execution_count": 10,
     "metadata": {},
     "output_type": "execute_result"
    }
   ],
   "source": [
    "hierarchy.shape"
   ]
  },
  {
   "cell_type": "code",
   "execution_count": 11,
   "metadata": {},
   "outputs": [
    {
     "data": {
      "text/plain": [
       "5"
      ]
     },
     "execution_count": 11,
     "metadata": {},
     "output_type": "execute_result"
    }
   ],
   "source": [
    "hierarchy.shape[1]"
   ]
  },
  {
   "cell_type": "code",
   "execution_count": 12,
   "metadata": {},
   "outputs": [],
   "source": [
    "hier = hierarchy[0][0]"
   ]
  },
  {
   "cell_type": "code",
   "execution_count": 13,
   "metadata": {},
   "outputs": [
    {
     "name": "stdout",
     "output_type": "stream",
     "text": [
      "Next Contour: 1\n",
      "Previous Contour: -1\n",
      "First Child: -1\n",
      "Parent Contour: -1\n"
     ]
    }
   ],
   "source": [
    "next_contour, pre_contour, first_child, parent = hier #Extracting the desired contour hierarchy\n",
    "print(f'Next Contour: {next_contour}')\n",
    "print(f'Previous Contour: {pre_contour}')\n",
    "print(f'First Child: {first_child}')\n",
    "print(f'Parent Contour: {parent}')"
   ]
  },
  {
   "cell_type": "code",
   "execution_count": 14,
   "metadata": {},
   "outputs": [],
   "source": [
    "#contours.reverse()"
   ]
  },
  {
   "cell_type": "markdown",
   "metadata": {},
   "source": [
    "### 1c. Drawing bounding boxes on contours i.e rows"
   ]
  },
  {
   "cell_type": "code",
   "execution_count": 20,
   "metadata": {},
   "outputs": [
    {
     "data": {
      "image/png": "[encoded data removed]",
      "text/plain": [
       "<Figure size 432x288 with 1 Axes>"
      ]
     },
     "metadata": {
      "needs_background": "light"
     },
     "output_type": "display_data"
    }
   ],
   "source": [
    "cnt = contours[4]\n",
    "image_new_copy_2 = img.copy()\n",
    "\n",
    "x,y,w,h = cv2.boundingRect(cnt)\n",
    "plt.imshow(cv2.rectangle(image_new_copy_2, (x,y), (x+w,y+h), (225,0,0), 2))\n",
    "plt.show()"
   ]
  },
  {
   "cell_type": "code",
   "execution_count": null,
   "metadata": {},
   "outputs": [],
   "source": [
    "ARR_CROPPED_ROWS = []\n",
    "draw_rectangle_on_img_contours_and_croppping_them(contours, thresh.copy(),ARR_CROPPED_ROWS)"
   ]
  },
  {
   "cell_type": "code",
   "execution_count": null,
   "metadata": {},
   "outputs": [],
   "source": [
    "ARR_CROPPED_ROWS[2]"
   ]
  },
  {
   "cell_type": "markdown",
   "metadata": {},
   "source": [
    "## Step2 : Finding columns(words) in a single line(row)"
   ]
  },
  {
   "cell_type": "markdown",
   "metadata": {},
   "source": [
    "### 2a. Meshing all columns characters together to extract columns(words)."
   ]
  },
  {
   "cell_type": "code",
   "execution_count": null,
   "metadata": {},
   "outputs": [],
   "source": [
    "# Display image using matplotlib\n",
    "img = ARR_CROPPED_ROWS[2].convert('RGB')\n",
    "img = np.array(img)\n",
    "plt.imshow(img)\n",
    "plt.show()"
   ]
  },
  {
   "cell_type": "code",
   "execution_count": null,
   "metadata": {},
   "outputs": [],
   "source": [
    "# convert the image to grayscale format\n",
    "img_gray = cv2.cvtColor(img, cv2.COLOR_BGR2GRAY)\n",
    "\n",
    "plt.imshow(img_gray)\n",
    "plt.show()"
   ]
  },
  {
   "cell_type": "code",
   "execution_count": null,
   "metadata": {},
   "outputs": [],
   "source": [
    "# apply thresholding\n",
    "ret, thresh = cv2.threshold(img_gray, 150, 255, cv2.THRESH_OTSU|cv2.THRESH_BINARY)\n",
    "\n",
    "plt.imshow(thresh)\n",
    "plt.show()"
   ]
  },
  {
   "cell_type": "code",
   "execution_count": null,
   "metadata": {},
   "outputs": [],
   "source": [
    "# Finding columns(words)\n",
    "rect_kernel = cv2.getStructuringElement(cv2.MORPH_RECT, (50,1))\n",
    "dilation = cv2.dilate(thresh, rect_kernel, iterations=1)\n",
    "\n",
    "plt.imshow(dilation)\n",
    "plt.show()"
   ]
  },
  {
   "cell_type": "markdown",
   "metadata": {},
   "source": [
    "### 2b. Find column contours of the image"
   ]
  },
  {
   "cell_type": "code",
   "execution_count": null,
   "metadata": {},
   "outputs": [],
   "source": [
    "# detect the contours on the binary image using cv2.CHAIN_APPROX_NONE\n",
    "contours, hierarchy = cv2.findContours(image=dilation, mode=cv2.RETR_EXTERNAL, method=cv2.CHAIN_APPROX_NONE)\n",
    "                                     \n",
    "# draw contours on the original image\n",
    "image_copy = img.copy()\n",
    "cv2.drawContours(image=image_copy, contours=contours, contourIdx=-1, color=(0, 255, 0), thickness=2, lineType=cv2.LINE_AA)\n",
    "               \n",
    "plt.imshow(image_copy)\n",
    "plt.show()"
   ]
  },
  {
   "cell_type": "code",
   "execution_count": null,
   "metadata": {},
   "outputs": [],
   "source": [
    "len(contours)"
   ]
  },
  {
   "cell_type": "code",
   "execution_count": null,
   "metadata": {},
   "outputs": [],
   "source": [
    "contours.reverse()"
   ]
  },
  {
   "cell_type": "markdown",
   "metadata": {},
   "source": [
    "### 2c. Drawing bounding boxes on contours i.e columns(words)"
   ]
  },
  {
   "cell_type": "code",
   "execution_count": null,
   "metadata": {},
   "outputs": [],
   "source": [
    "cnt = contours[0]\n",
    "image_new_copy_2 = img.copy()\n",
    "\n",
    "x,y,w,h = cv2.boundingRect(cnt)\n",
    "plt.imshow(cv2.rectangle(image_new_copy_2, (x,y), (x+w,y+h), (225,0,0), 2))\n",
    "plt.show()"
   ]
  },
  {
   "cell_type": "code",
   "execution_count": null,
   "metadata": {},
   "outputs": [],
   "source": [
    "ARR_CROPPED_WORDS = []\n",
    "draw_rectangle_on_img_contours_and_croppping_them(contours, thresh.copy(),ARR_CROPPED_WORDS)"
   ]
  },
  {
   "cell_type": "code",
   "execution_count": null,
   "metadata": {},
   "outputs": [],
   "source": [
    "ARR_CROPPED_WORDS[1]"
   ]
  },
  {
   "cell_type": "markdown",
   "metadata": {},
   "source": [
    "## Step3 : Finding characters in a single word"
   ]
  },
  {
   "cell_type": "code",
   "execution_count": null,
   "metadata": {},
   "outputs": [],
   "source": [
    "# Read image using opencv\n",
    "img = ARR_CROPPED_WORDS[0].convert('RGB')\n",
    "img = np.array(img)\n",
    "\n",
    "# Display image using matplotlib\n",
    "plt.imshow(img)\n",
    "plt.show()"
   ]
  },
  {
   "cell_type": "code",
   "execution_count": null,
   "metadata": {},
   "outputs": [],
   "source": [
    "# convert the image to grayscale format\n",
    "img_gray = cv2.cvtColor(img, cv2.COLOR_BGR2GRAY)\n",
    "\n",
    "plt.imshow(img_gray)\n",
    "plt.show()"
   ]
  },
  {
   "cell_type": "code",
   "execution_count": null,
   "metadata": {},
   "outputs": [],
   "source": [
    "# apply thresholding\n",
    "ret, thresh = cv2.threshold(img_gray, 150, 255, cv2.THRESH_OTSU|cv2.THRESH_BINARY)\n",
    "\n",
    "plt.imshow(thresh)\n",
    "plt.show()"
   ]
  },
  {
   "cell_type": "markdown",
   "metadata": {},
   "source": [
    "### 3b. Find Image contours"
   ]
  },
  {
   "cell_type": "code",
   "execution_count": null,
   "metadata": {},
   "outputs": [],
   "source": [
    "# detect the contours on the binary image using cv2.CHAIN_APPROX_NONE\n",
    "contours, hierarchy = cv2.findContours(image=thresh, mode=cv2.RETR_EXTERNAL, method=cv2.CHAIN_APPROX_NONE)\n",
    "                                     \n",
    "# draw contours on the original image\n",
    "image_copy = img.copy()\n",
    "cv2.drawContours(image=image_copy, contours=contours, contourIdx=-1, color=(0, 255, 0), thickness=2, lineType=cv2.LINE_AA)\n",
    "               \n",
    "plt.imshow(image_copy)\n",
    "plt.show()"
   ]
  },
  {
   "cell_type": "code",
   "execution_count": null,
   "metadata": {},
   "outputs": [],
   "source": [
    "len(contours)"
   ]
  },
  {
   "cell_type": "code",
   "execution_count": null,
   "metadata": {},
   "outputs": [],
   "source": [
    "# Sort contours from left->Right\n",
    "contours = sorted(contours, key=ret_x_cord_contour, reverse=False)"
   ]
  },
  {
   "cell_type": "markdown",
   "metadata": {},
   "source": [
    "### 3c. Drawing boxes on contours"
   ]
  },
  {
   "cell_type": "code",
   "execution_count": null,
   "metadata": {},
   "outputs": [],
   "source": [
    "cnt = contours[1]\n",
    "image_new_copy_2 = img.copy()\n",
    "\n",
    "x,y,w,h = cv2.boundingRect(cnt)\n",
    "plt.imshow(cv2.rectangle(image_new_copy_2, (x,y), (x+w,y+h), (225,0,0), 2))\n",
    "plt.show()"
   ]
  },
  {
   "cell_type": "code",
   "execution_count": null,
   "metadata": {},
   "outputs": [],
   "source": [
    "ARR_CROPPED_CHARS = []\n",
    "draw_rectangle_on_img_contours_and_croppping_them(contours, thresh.copy(),ARR_CROPPED_CHARS)"
   ]
  },
  {
   "cell_type": "code",
   "execution_count": null,
   "metadata": {},
   "outputs": [],
   "source": [
    "ARR_CROPPED_CHARS[1]"
   ]
  },
  {
   "cell_type": "code",
   "execution_count": null,
   "metadata": {},
   "outputs": [],
   "source": [
    "ARR_CROPPED_CHARS_NEW = []\n",
    "for img in ARR_CROPPED_CHARS:\n",
    "    img = np.array(img)\n",
    "    img = cv2.bitwise_not(img)\n",
    "    img = Image.fromarray(img)\n",
    "    ARR_CROPPED_CHARS_NEW.append(img)"
   ]
  },
  {
   "cell_type": "code",
   "execution_count": null,
   "metadata": {},
   "outputs": [],
   "source": [
    "ARR_CROPPED_CHARS_NEW[0]"
   ]
  },
  {
   "cell_type": "code",
   "execution_count": null,
   "metadata": {},
   "outputs": [],
   "source": [
    "# ------------------------------------------------\n",
    "# STEP 3.1: CONVERT CROPPED DIGITS TO 20X20\n",
    "# ------------------------------------------------\n",
    "arr_img_20x20 = resizing_cropped_img_to_20_by_20(ARR_CROPPED_CHARS_NEW)\n",
    "\n",
    "# ------------------------------------------------\n",
    "# STEP 3.2: CONVERT 20x20 TO 28X28 AND REVERSE IT\n",
    "# ------------------------------------------------\n",
    "arr_img_28x28 = add_borders_to_img(arr_img_20x20)"
   ]
  },
  {
   "cell_type": "code",
   "execution_count": null,
   "metadata": {},
   "outputs": [],
   "source": [
    "arr_img_28x28[2]"
   ]
  },
  {
   "cell_type": "code",
   "execution_count": null,
   "metadata": {},
   "outputs": [],
   "source": []
  }
 ],
 "metadata": {
  "kernelspec": {
   "display_name": "Python 3",
   "language": "python",
   "name": "python3"
  },
  "language_info": {
   "codemirror_mode": {
    "name": "ipython",
    "version": 3
   },
   "file_extension": ".py",
   "mimetype": "text/x-python",
   "name": "python",
   "nbconvert_exporter": "python",
   "pygments_lexer": "ipython3",
   "version": "3.8.5"
  }
 },
 "nbformat": 4,
 "nbformat_minor": 4
}
