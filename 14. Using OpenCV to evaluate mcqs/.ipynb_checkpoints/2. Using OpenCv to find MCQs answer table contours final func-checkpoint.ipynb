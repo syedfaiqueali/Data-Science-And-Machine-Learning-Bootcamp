{
 "cells": [
  {
   "cell_type": "markdown",
   "metadata": {},
   "source": [
    "# Imports"
   ]
  },
  {
   "cell_type": "code",
   "execution_count": 1,
   "metadata": {},
   "outputs": [],
   "source": [
    "import cv2\n",
    "import numpy as np\n",
    "import pandas as pd\n",
    "import matplotlib.pyplot as plt\n",
    "\n",
    "import tensorflow as tf\n",
    "from tensorflow.compat.v1.saved_model import load, tag_constants\n",
    "\n",
    "from PIL import Image\n",
    "\n",
    "%matplotlib inline"
   ]
  },
  {
   "cell_type": "markdown",
   "metadata": {},
   "source": [
    "# Constants"
   ]
  },
  {
   "cell_type": "code",
   "execution_count": 2,
   "metadata": {},
   "outputs": [],
   "source": [
    "SAMPLE_IMAGE = 'Image_Samples/1.png'\n",
    "ALPHABETS = {0:'A', 1:'B', 2:'C', 3:'D', 4:'E', 5:'F'}\n",
    "RIGHT_ANS = ['A','C','D','B','B','A','D','E','A','C','D','B','C','A','E','B','C','D','E','A']"
   ]
  },
  {
   "cell_type": "markdown",
   "metadata": {},
   "source": [
    "# Helper Functions"
   ]
  },
  {
   "cell_type": "code",
   "execution_count": 3,
   "metadata": {},
   "outputs": [],
   "source": [
    "def get_all_childs_of_parent(parent, hierarchy):\n",
    "    '''\n",
    "    This function will return all the child of that contour\n",
    "    Parameters:\n",
    "    parent : Int value\n",
    "    hierarchy: contours hierarchy\n",
    "    '''\n",
    "    # Initialize\n",
    "    hier_len = hierarchy.shape[1] #Total contours\n",
    "    child_contours = {} #Empty Dict\n",
    "    \n",
    "    for x in range(hier_len):\n",
    "        # To loop through whole hierarchy\n",
    "        next_contour, pre_contour, first_child, parent_contour = hierarchy[0][x]\n",
    "        \n",
    "        # If desired parent found, so append it all childs\n",
    "        if parent == parent_contour:\n",
    "            child_contours[x] = hierarchy[0][x]\n",
    "        \n",
    "    # return all the found contours\n",
    "    return child_contours\n",
    "\n",
    "def extract_desired_contours(contours_dict, contours):\n",
    "    '''\n",
    "    This function will extract only desired contours\n",
    "    Parameters:\n",
    "    contours_dict : Desired contours as Dict\n",
    "    contours: All contours\n",
    "    ''' \n",
    "    desired_contours = []\n",
    "    \n",
    "    for i in range(len(contours)):\n",
    "        for key,value in contours_dict.items():\n",
    "            next_contour, pre_contour, first_child, parent = value\n",
    "            if i == first_child:\n",
    "                desired_contours.append(contours[i])\n",
    "                \n",
    "    return desired_contours\n",
    "\n",
    "\n",
    "def draw_rectangle_on_img_contours_and_croppping_them(contours, image, arr_contours):\n",
    "    '''\n",
    "    This function will draw rectangles on image\n",
    "    Parameters:\n",
    "    contours : array\n",
    "    image: image\n",
    "    arr_contours: array in which cropped contours to be saved\n",
    "    '''\n",
    "    total_contours = len(contours)\n",
    "    rect_color = (255,0,0)\n",
    "    rect_stroke_width = 2\n",
    "    \n",
    "    new_img = image.copy()\n",
    "    \n",
    "    for i in range(total_contours):\n",
    "        cnt = contours[i]\n",
    "        x,y,w,h = cv2.boundingRect(cnt)\n",
    "        image = cv2.rectangle(image, (x,y), (x+w,y+h), rect_color, rect_stroke_width)\n",
    "        \n",
    "        # Step 5: Cropping individual contours and saving them in array\n",
    "        cropping_rectangles_and_saving_them(x,y,x+w,y+h,new_img,i,arr_contours)\n",
    "        \n",
    "    # To visualize all contours on image\n",
    "    #plt.imshow(image)\n",
    "    #plt.show()\n",
    "      \n",
    "\n",
    "def cropping_rectangles_and_saving_them(left,upper,right,lower, image_name, cropped_image_name, arr_contours):\n",
    "    '''\n",
    "    This function will crop all the bounding rectangles from an image\n",
    "    Parameters:\n",
    "    left=x,upper=y,right=x+w,lower=y+h\n",
    "    image_name: original image\n",
    "    cropped_image_name: individual cropped images name\n",
    "    '''\n",
    "    # Opens image using PIL\n",
    "    im = Image.fromarray(image_name)\n",
    "    \n",
    "    # Crop image from original image\n",
    "    box = (left,upper,right,lower)\n",
    "    cropped_image = im.crop(box)\n",
    "    \n",
    "    # Appending cropped contours\n",
    "    arr_contours.append(cropped_image)\n",
    "    \n",
    "    \n",
    "def resizing_cropped_img_to_20_by_20(arr_cropped_images):\n",
    "    '''\n",
    "    This function will resize all the cropped images to 20x20\n",
    "    Parameters:\n",
    "    arr_cropped_images: arr containing all cropped numbers\n",
    "    '''\n",
    "    new_Arr = []\n",
    "    \n",
    "    for i in range(len(arr_cropped_images)):\n",
    "        # Step:6 Resize img to 20 by 20\n",
    "        new_Arr.append(arr_cropped_images[i].resize((20,20)))\n",
    "        \n",
    "    return new_Arr\n",
    "    \n",
    "    \n",
    "def add_borders_to_img(arr_20x20_imgs):\n",
    "    '''\n",
    "    This function will resize all the cropped images to 28x28\n",
    "    Parameters:\n",
    "    arr_20x20_imgs: arr containing all 20x20 images\n",
    "    '''\n",
    "    new_Arr = []\n",
    "    \n",
    "    for i in range(len(arr_20x20_imgs)):\n",
    "        old_size = arr_20x20_imgs[i].size\n",
    "        new_size = (28,28)\n",
    "        \n",
    "        img_28x28 = Image.new('RGB',new_size, color=(255,255,255))\n",
    "        img_28x28.paste(arr_20x20_imgs[i],((new_size[0]-old_size[0])//2,(new_size[1]-old_size[1])//2))\n",
    "        new_Arr.append(img_28x28)\n",
    "        \n",
    "    return new_Arr\n",
    "\n",
    "def recognize_and_evaluate_mcqs(image):\n",
    "    '''\n",
    "    This function will regonize recognize and evaluate mcqs\n",
    "    Parameters:\n",
    "    image: Original image on plain background paper\n",
    "    '''\n",
    "    \n",
    "    # ------------------------------------------\n",
    "    # STEP 1: READ IMAGE\n",
    "    # ------------------------------------------\n",
    "    img = cv2.imread(image)\n",
    "    \n",
    "    # ------------------------------------------\n",
    "    # STEP 2: CONVERT RGB -> GRAYSCALE -> BINARY\n",
    "    # ------------------------------------------\n",
    "    img_gray = cv2.cvtColor(img, cv2.COLOR_BGR2GRAY)\n",
    "    ret, thresh = cv2.threshold(img_gray, 150, 255, cv2.THRESH_BINARY)\n",
    "\n",
    "    # ------------------------------------------\n",
    "    # STEP 3: FIND IMAGE CONTOURS\n",
    "    # ------------------------------------------\n",
    "    contours, hierarchy = cv2.findContours(image=thresh, mode=cv2.RETR_TREE, method=cv2.CHAIN_APPROX_NONE)\n",
    "\n",
    "    # --------------------------------------------------------------------\n",
    "    # STEP 4: REMOVE UN-NECESSARY CHILDS \n",
    "    # --------------------------------------------------------------------\n",
    "    contours_to_keep_dict = get_all_childs_of_parent(2,hierarchy)\n",
    "    contours = extract_desired_contours(contours_to_keep_dict, contours)\n",
    "\n",
    "    # ------------------------------------------------\n",
    "    # STEP 5: DRAW RECTANGLE ON CONTOURS & CROP THEM\n",
    "    # ------------------------------------------------\n",
    "    ARR_CROPPED_NR = []\n",
    "    draw_rectangle_on_img_contours_and_croppping_them(contours,thresh.copy(),ARR_CROPPED_NR)\n",
    "    \n",
    "    # ------------------------------------------------\n",
    "    # STEP 6: CONVERT CROPPED DIGITS TO 20X20\n",
    "    # ------------------------------------------------\n",
    "    arr_img_20x20 = resizing_cropped_img_to_20_by_20(ARR_CROPPED_NR)\n",
    "    \n",
    "    # ------------------------------------------------\n",
    "    # STEP 7: CONVERT 20x20 TO 28X28 AND REVERSE IT\n",
    "    # ------------------------------------------------\n",
    "    arr_img_28x28 = add_borders_to_img(arr_img_20x20)\n",
    "    arr_img_28x28.reverse()\n",
    "    \n",
    "    # ------------------------------------------------\n",
    "    # STEP 8: CONVERT 28x28 TO FLAT ARRAY\n",
    "    #         AND ELIMINATE MCQ NR\n",
    "    # ------------------------------------------------\n",
    "    x_test = []\n",
    "\n",
    "    for i in range(len(arr_img_28x28)):\n",
    "        if i in range(10,20,1): #10-19\n",
    "            bw = arr_img_28x28[i].convert('L')\n",
    "            img_array = np.invert(bw)\n",
    "            test_img = img_array.ravel()\n",
    "            x_test.append(test_img)\n",
    "        elif i in range(30,40,1): #30-39\n",
    "            bw = arr_img_28x28[i].convert('L')\n",
    "            img_array = np.invert(bw)\n",
    "            test_img = img_array.ravel()\n",
    "            x_test.append(test_img)\n",
    "     \n",
    "    # ------------------------------------------------\n",
    "    # STEP 9: LOAD MODEL AND CREATE SESSION\n",
    "    # ------------------------------------------------\n",
    "    # Create a graph obj placeholder\n",
    "    graph = tf.Graph()\n",
    "\n",
    "    # Creating a sess obj and linking session and the graph\n",
    "    sess = tf.compat.v1.Session(graph=graph)\n",
    "    \n",
    "    # Loading the Model\n",
    "    load(sess=sess, tags=[tag_constants.SERVING], export_dir='SavedModel')\n",
    "    \n",
    "    # ------------------------------------------------\n",
    "    # STEP 9: MAKING PREDICTIONS\n",
    "    # ------------------------------------------------\n",
    "    # Return the `Tensor` with the given `name` and index=0 result\n",
    "    X = graph.get_tensor_by_name('X:0')\n",
    "\n",
    "    # Get hold of the tensor that will hold the predictions from the graph. Store these under y_pred\n",
    "    y_pred = graph.get_tensor_by_name('accuracy_calc/prediction:0')\n",
    "\n",
    "    # fetches = y_pred(the output we are after)\n",
    "    prediction = sess.run(fetches=y_pred, feed_dict={X: x_test})\n",
    "    \n",
    "    # ------------------------------------------------\n",
    "    # STEP 10: DECODING PREDICTIONS\n",
    "    # ------------------------------------------------\n",
    "    arr_predicted_alphabets = []\n",
    "    \n",
    "    for i in range(len(prediction)):\n",
    "        for key,value in ALPHABETS.items():\n",
    "            if prediction[i] == key:\n",
    "                arr_predicted_alphabets.append(value)\n",
    "                \n",
    "    return arr_predicted_alphabets"
   ]
  },
  {
   "cell_type": "markdown",
   "metadata": {},
   "source": [
    "# Image Processing"
   ]
  },
  {
   "cell_type": "markdown",
   "metadata": {},
   "source": [
    "### User 1"
   ]
  },
  {
   "cell_type": "code",
   "execution_count": 4,
   "metadata": {},
   "outputs": [
    {
     "data": {
      "image/png": "[encoded data removed]",
      "text/plain": [
       "<Figure size 432x288 with 1 Axes>"
      ]
     },
     "metadata": {
      "needs_background": "light"
     },
     "output_type": "display_data"
    }
   ],
   "source": [
    "img = cv2.imread(SAMPLE_IMAGE)\n",
    "plt.imshow(img)\n",
    "plt.show()"
   ]
  },
  {
   "cell_type": "code",
   "execution_count": 5,
   "metadata": {},
   "outputs": [
    {
     "name": "stdout",
     "output_type": "stream",
     "text": [
      "WARNING:tensorflow:From <ipython-input-3-3e9b02cad5ba>:194: load (from tensorflow.python.saved_model.loader_impl) is deprecated and will be removed in a future version.\n",
      "Instructions for updating:\n",
      "This function will only be available through the v1 compatibility library as tf.compat.v1.saved_model.loader.load or tf.compat.v1.saved_model.load. There will be a new function for importing SavedModels in Tensorflow 2.0.\n",
      "INFO:tensorflow:Restoring parameters from SavedModel/variables/variables\n"
     ]
    },
    {
     "data": {
      "text/plain": [
       "['A',\n",
       " 'C',\n",
       " 'D',\n",
       " 'B',\n",
       " 'B',\n",
       " 'A',\n",
       " 'D',\n",
       " 'E',\n",
       " 'A',\n",
       " 'C',\n",
       " 'D',\n",
       " 'B',\n",
       " 'C',\n",
       " 'A',\n",
       " 'E',\n",
       " 'B',\n",
       " 'C',\n",
       " 'D',\n",
       " 'E',\n",
       " 'A']"
      ]
     },
     "execution_count": 5,
     "metadata": {},
     "output_type": "execute_result"
    }
   ],
   "source": [
    "predictions = recognize_and_evaluate_mcqs(SAMPLE_IMAGE)\n",
    "predictions"
   ]
  },
  {
   "cell_type": "code",
   "execution_count": 6,
   "metadata": {},
   "outputs": [
    {
     "data": {
      "text/plain": [
       "list"
      ]
     },
     "execution_count": 6,
     "metadata": {},
     "output_type": "execute_result"
    }
   ],
   "source": [
    "type(predictions)"
   ]
  },
  {
   "cell_type": "code",
   "execution_count": 7,
   "metadata": {},
   "outputs": [],
   "source": [
    "score = 0\n",
    "for i in range(len(predictions)):\n",
    "    if predictions[i] == RIGHT_ANS[i]:\n",
    "        score = score + 1\n",
    "    "
   ]
  },
  {
   "cell_type": "code",
   "execution_count": 8,
   "metadata": {},
   "outputs": [
    {
     "data": {
      "text/plain": [
       "20"
      ]
     },
     "execution_count": 8,
     "metadata": {},
     "output_type": "execute_result"
    }
   ],
   "source": [
    "score"
   ]
  }
 ],
 "metadata": {
  "kernelspec": {
   "display_name": "Python 3",
   "language": "python",
   "name": "python3"
  },
  "language_info": {
   "codemirror_mode": {
    "name": "ipython",
    "version": 3
   },
   "file_extension": ".py",
   "mimetype": "text/x-python",
   "name": "python",
   "nbconvert_exporter": "python",
   "pygments_lexer": "ipython3",
   "version": "3.8.5"
  }
 },
 "nbformat": 4,
 "nbformat_minor": 4
}
